{
 "cells": [
  {
   "cell_type": "code",
   "execution_count": 15,
   "metadata": {
    "collapsed": true
   },
   "outputs": [],
   "source": [
    "# Imports\n",
    "\n",
    "import matplotlib.pyplot as plt\n",
    "import numpy as np\n",
    "import datetime\n",
    "%matplotlib inline\n",
    "import os\n",
    "from os import listdir\n",
    "from os.path import isfile, join\n",
    "from random import randrange\n",
    "import re\n",
    "import tensorflow as tf"
   ]
  },
  {
   "cell_type": "markdown",
   "metadata": {},
   "source": [
    "# Loading Data "
   ]
  },
  {
   "cell_type": "code",
   "execution_count": 2,
   "metadata": {
    "collapsed": true
   },
   "outputs": [],
   "source": [
    "# Average sequence is about length 30\n",
    "maxSeqLength = 50\n",
    "# Dimension of each opcode vector\n",
    "numDimensions = 100\n",
    "# Size of batch for sequence learner\n",
    "batchSize = 24"
   ]
  },
  {
   "cell_type": "code",
   "execution_count": 3,
   "metadata": {
    "collapsed": false
   },
   "outputs": [
    {
     "name": "stdout",
     "output_type": "stream",
     "text": [
      "['gromacs', 'hmmer', 'mcf', 'sphinx3', 'soplex-fix', 'milc', 'gobmk', 'gemsfdtd', 'leslie3d', 'gmm', 'h264', 'povray-fix', 'libquantum', 'gcc', 'stemmer', 'lbm', 'astar', 'namd-fix']\n"
     ]
    }
   ],
   "source": [
    "data_folder = 'feature_output_new_mark1_2k'\n",
    "output_folder = 'path_data'\n",
    "if not(os.path.exists(output_folder)):\n",
    "    os.mkdir(output_folder)\n",
    "data_files = [f[:-4] for f in os.listdir(data_folder)]\n",
    "print data_files"
   ]
  },
  {
   "cell_type": "code",
   "execution_count": 4,
   "metadata": {
    "collapsed": false
   },
   "outputs": [
    {
     "name": "stdout",
     "output_type": "stream",
     "text": [
      "Loading gromacs paths\n",
      "Loading hmmer paths\n",
      "Loading mcf paths\n",
      "Loading sphinx3 paths\n",
      "Loading soplex-fix paths\n",
      "Loading milc paths\n",
      "Loading gobmk paths\n",
      "Loading gemsfdtd paths\n",
      "Loading leslie3d paths\n",
      "Loading gmm paths\n",
      "Loading h264 paths\n",
      "Loading povray-fix paths\n",
      "Loading libquantum paths\n",
      "Loading gcc paths\n",
      "Loading stemmer paths\n",
      "Loading lbm paths\n",
      "Loading astar paths\n",
      "Loading namd-fix paths\n"
     ]
    }
   ],
   "source": [
    "hot_data = []\n",
    "cold_data = []\n",
    "for data_file in data_files:\n",
    "    print \"Loading \" + data_file + \" paths\"\n",
    "    data_hot = np.load(output_folder + '/data_hot_' + data_file + '.npy')\n",
    "    data_cold = np.load(output_folder + '/data_cold_' + data_file + '.npy')\n",
    "    hot_data.append(data_hot)\n",
    "    cold_data.append(data_cold)"
   ]
  },
  {
   "cell_type": "markdown",
   "metadata": {},
   "source": [
    "# Helper Functions"
   ]
  },
  {
   "cell_type": "code",
   "execution_count": 5,
   "metadata": {
    "collapsed": false
   },
   "outputs": [],
   "source": [
    "def getTrainBatch(test_program):\n",
    "    labels = []\n",
    "    arr = np.zeros([batchSize, maxSeqLength, numDimensions])\n",
    "    i = 0\n",
    "    while(i < batchSize):\n",
    "        # Choose program that is not being tested\n",
    "        program = test_program\n",
    "        while(program == test_program):\n",
    "            program = randrange(len(data_files))\n",
    "        num = randrange(len(hot_data[program]))\n",
    "        if (i % 2 == 0):\n",
    "            try:\n",
    "                arr[i] = hot_data[program][num-1:num]\n",
    "                labels.append([1,0])\n",
    "            except ValueError:\n",
    "                continue\n",
    "        else:\n",
    "            try:\n",
    "                arr[i] = cold_data[program][num-1:num]\n",
    "                labels.append([0,1])\n",
    "            except ValueError:\n",
    "                continue\n",
    "        i += 1\n",
    "    return arr, labels\n",
    "\n",
    "def getTestBatch(test_program):\n",
    "    labels = []\n",
    "    arr = np.zeros([batchSize, maxSeqLength, numDimensions])\n",
    "    i = 0\n",
    "    while(i < batchSize):\n",
    "        num = randrange(len(hot_data[test_program]))\n",
    "        if (i % 2 == 0):\n",
    "            try:\n",
    "                arr[i] = hot_data[test_program][num-1:num]\n",
    "                labels.append([1,0])\n",
    "            except ValueError:\n",
    "                continue                       \n",
    "        else:\n",
    "            try:\n",
    "                arr[i] = cold_data[test_program][num-1:num]\n",
    "                labels.append([0,1])\n",
    "            except ValueError:\n",
    "                continue\n",
    "        i += 1\n",
    "    return arr, labels"
   ]
  },
  {
   "cell_type": "markdown",
   "metadata": {},
   "source": [
    "# GRU Model"
   ]
  },
  {
   "cell_type": "code",
   "execution_count": 6,
   "metadata": {
    "collapsed": true
   },
   "outputs": [],
   "source": [
    "batchSize = 24\n",
    "lstmUnits = 256\n",
    "numClasses = 2\n",
    "iterations = 150001"
   ]
  },
  {
   "cell_type": "code",
   "execution_count": 7,
   "metadata": {
    "collapsed": false
   },
   "outputs": [],
   "source": [
    "tf.reset_default_graph()\n",
    "\n",
    "labels = tf.placeholder(tf.float32, [batchSize, numClasses])\n",
    "input_data = tf.placeholder(tf.float32, [batchSize, maxSeqLength, numDimensions])\n",
    "data = tf.Variable(tf.zeros([batchSize, maxSeqLength, numDimensions]),dtype=tf.float32)\n",
    "data = tf.assign(data, input_data)"
   ]
  },
  {
   "cell_type": "code",
   "execution_count": 8,
   "metadata": {
    "collapsed": false
   },
   "outputs": [],
   "source": [
    "cells = []\n",
    "for i in range(2):\n",
    "    lstmCell = tf.contrib.rnn.GRUCell(lstmUnits)\n",
    "    lstmCell = tf.contrib.rnn.DropoutWrapper(cell=lstmCell, output_keep_prob=0.75)\n",
    "    cells.append(lstmCell)\n",
    "lstmCell = tf.contrib.rnn.MultiRNNCell(cells)\n",
    "value, _ = tf.nn.dynamic_rnn(lstmCell, data, dtype=tf.float32)"
   ]
  },
  {
   "cell_type": "code",
   "execution_count": 9,
   "metadata": {
    "collapsed": false
   },
   "outputs": [],
   "source": [
    "weight = tf.Variable(tf.truncated_normal([lstmUnits, numClasses]))\n",
    "bias = tf.Variable(tf.constant(0.1, shape=[numClasses]))\n",
    "value = tf.transpose(value, [1, 0, 2])\n",
    "last = tf.gather(value, int(value.get_shape()[0]) - 1)\n",
    "prediction = (tf.matmul(last, weight) + bias)"
   ]
  },
  {
   "cell_type": "code",
   "execution_count": 10,
   "metadata": {
    "collapsed": true
   },
   "outputs": [],
   "source": [
    "softmax = tf.nn.softmax(prediction)\n",
    "predictedLabels = tf.argmax(prediction,1)\n",
    "correctPred = tf.equal(tf.argmax(prediction,1), tf.argmax(labels,1))"
   ]
  },
  {
   "cell_type": "code",
   "execution_count": 11,
   "metadata": {
    "collapsed": true
   },
   "outputs": [],
   "source": [
    "accuracy = tf.reduce_mean(tf.cast(correctPred, tf.float32))"
   ]
  },
  {
   "cell_type": "code",
   "execution_count": 12,
   "metadata": {
    "collapsed": true
   },
   "outputs": [],
   "source": [
    "loss = tf.reduce_mean(tf.nn.softmax_cross_entropy_with_logits(logits=prediction, labels=labels))\n",
    "optimizer = tf.train.AdamOptimizer().minimize(loss)"
   ]
  },
  {
   "cell_type": "markdown",
   "metadata": {},
   "source": [
    "# Training"
   ]
  },
  {
   "cell_type": "code",
   "execution_count": 13,
   "metadata": {
    "collapsed": false
   },
   "outputs": [],
   "source": [
    "def train_learner(test_program):\n",
    "\n",
    "    \n",
    "    sess = tf.InteractiveSession()\n",
    "    saver = tf.train.Saver()\n",
    "    \n",
    "    tf.summary.scalar('Loss', loss)\n",
    "    tf.summary.scalar('Accuracy', accuracy)\n",
    "    merged = tf.summary.merge_all()\n",
    "    \n",
    "    logdir = \"tensorboard/\" + datetime.datetime.now().strftime(\"%Y%m%d-%H%M%S\") + \"/\"\n",
    "    writer = tf.summary.FileWriter(logdir, sess.graph)   \n",
    "    saver = tf.train.Saver()\n",
    "    \n",
    "    sess.run(tf.global_variables_initializer())\n",
    "\n",
    "    for i in range(iterations):\n",
    "       #Next Batch of reviews\n",
    "       nextBatch, nextBatchLabels = getTrainBatch(test_program);\n",
    "       sess.run(optimizer, {input_data: nextBatch, labels: nextBatchLabels})\n",
    "       #Write summary to Tensorboard\n",
    "       if (i % 50 == 0):\n",
    "           summary = sess.run(merged, {input_data: nextBatch, labels: nextBatchLabels})\n",
    "           writer.add_summary(summary, i)\n",
    "\n",
    "       #Save the network every 10,000 training iterations\n",
    "       if (i % 10000 == 0 and i != 0):\n",
    "           if not(os.path.exists(\"gru_models_2\")):\n",
    "               os.mkdir(\"gru_models_2\") \n",
    "           save_path = saver.save(sess, \"gru_models_2/\" + data_files[test_program] + \"_model.ckpt\", global_step=i)\n",
    "           print(\"saved to %s\" % save_path)\n",
    "    writer.close()"
   ]
  },
  {
   "cell_type": "code",
   "execution_count": null,
   "metadata": {
    "collapsed": false
   },
   "outputs": [
    {
     "name": "stdout",
     "output_type": "stream",
     "text": [
      "saved to gru_models/soplex-fix_model.ckpt-10000\n",
      "saved to gru_models/soplex-fix_model.ckpt-20000\n",
      "saved to gru_models/soplex-fix_model.ckpt-30000\n",
      "saved to gru_models/soplex-fix_model.ckpt-40000\n",
      "saved to gru_models/soplex-fix_model.ckpt-50000\n",
      "saved to gru_models/soplex-fix_model.ckpt-60000\n",
      "saved to gru_models/soplex-fix_model.ckpt-70000\n",
      "saved to gru_models/soplex-fix_model.ckpt-80000"
     ]
    }
   ],
   "source": [
    "train_learner(4)"
   ]
  },
  {
   "cell_type": "markdown",
   "metadata": {},
   "source": [
    "# Results"
   ]
  },
  {
   "cell_type": "code",
   "execution_count": 171,
   "metadata": {
    "collapsed": false
   },
   "outputs": [],
   "source": [
    "def test_learner(test_program):\n",
    "    sess = tf.InteractiveSession()\n",
    "    saver = tf.train.Saver()\n",
    "    saver.restore(sess, tf.train.latest_checkpoint('gru_models_2'))\n",
    "    \n",
    "    iterations = 30\n",
    "    accuracy_average = 0\n",
    "    precision_average = 0\n",
    "    recall_average = 0\n",
    "    for i in range(iterations):\n",
    "        nextBatch, nextBatchLabels = getTestBatch(test_program);\n",
    "        accuracy_average += (sess.run(accuracy, {data: nextBatch,\n",
    "                                         labels: nextBatchLabels}))\n",
    "        predicted_labels = (sess.run(predictedLabels, {data: nextBatch,\n",
    "                                     labels: nextBatchLabels}))\n",
    "        true_positive_total = sum(predicted_labels[0::2])\n",
    "        false_positive_total = sum(predicted_labels[1::2])\n",
    "        false_negative_total = batchSize / 2 - sum(predicted_labels[0::2])\n",
    "        precision_average += 1 - float(true_positive_total) / (true_positive_total + false_positive_total)\n",
    "        recall_average += 1 - float(true_positive_total) / (true_positive_total + false_negative_total)\n",
    "    print \"Accuracy: \" + str(accuracy_average / iterations)\n",
    "    precision_val = precision_average / iterations\n",
    "    recall_val = recall_average / iterations\n",
    "    print precision_val\n",
    "    print recall_val\n",
    "    f_score = 2 * (precision_val * recall_val) / (precision_val +  recall_val)\n",
    "    print \"F-Score: \" + str(f_score)"
   ]
  },
  {
   "cell_type": "code",
   "execution_count": 183,
   "metadata": {
    "collapsed": false
   },
   "outputs": [
    {
     "name": "stdout",
     "output_type": "stream",
     "text": [
      "INFO:tensorflow:Restoring parameters from gru_models/soplex-fix_model.ckpt-150000\n"
     ]
    },
    {
     "name": "stderr",
     "output_type": "stream",
     "text": [
      "INFO:tensorflow:Restoring parameters from gru_models/soplex-fix_model.ckpt-150000\n"
     ]
    },
    {
     "name": "stdout",
     "output_type": "stream",
     "text": [
      "Accuracy: 0.941666660706\n",
      "0.926330891331\n",
      "0.919444444444\n",
      "F-Score: 0.922874821484\n"
     ]
    }
   ],
   "source": [
    "test_learner(17)"
   ]
  },
  {
   "cell_type": "code",
   "execution_count": null,
   "metadata": {
    "collapsed": true
   },
   "outputs": [],
   "source": []
  }
 ],
 "metadata": {
  "anaconda-cloud": {},
  "kernelspec": {
   "display_name": "Python 2",
   "language": "python",
   "name": "python2"
  },
  "language_info": {
   "codemirror_mode": {
    "name": "ipython",
    "version": 2
   },
   "file_extension": ".py",
   "mimetype": "text/x-python",
   "name": "python",
   "nbconvert_exporter": "python",
   "pygments_lexer": "ipython2",
   "version": "2.7.12"
  }
 },
 "nbformat": 4,
 "nbformat_minor": 1
}
