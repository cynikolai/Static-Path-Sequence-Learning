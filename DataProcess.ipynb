{
 "cells": [
  {
   "cell_type": "code",
   "execution_count": 1,
   "metadata": {
    "collapsed": true
   },
   "outputs": [],
   "source": [
    "import os\n",
    "import numpy as np\n",
    "import csv\n",
    "import pandas as pd\n",
    "import itertools\n",
    "from random import shuffle"
   ]
  },
  {
   "cell_type": "code",
   "execution_count": 2,
   "metadata": {
    "collapsed": false
   },
   "outputs": [
    {
     "name": "stdout",
     "output_type": "stream",
     "text": [
      "['gromacs.csv', 'hmmer.csv', 'mcf.csv', 'sphinx3.csv', 'soplex-fix.csv', 'milc.csv', 'gobmk.csv', 'gemsfdtd.csv', 'leslie3d.csv', 'gmm.csv', 'h264.csv', 'povray-fix.csv', 'libquantum.csv', 'gcc.csv', 'stemmer.csv', 'lbm.csv', 'astar.csv', 'namd-fix.csv']\n"
     ]
    }
   ],
   "source": [
    "data_folder = 'feature_output_new_mark1_2k'\n",
    "output_folder = 'path_data'\n",
    "if not(os.path.exists(output_folder)):\n",
    "    os.mkdir(output_folder)\n",
    "data_files = [f for f in os.listdir(data_folder)]\n",
    "print data_files"
   ]
  },
  {
   "cell_type": "code",
   "execution_count": 3,
   "metadata": {
    "collapsed": true
   },
   "outputs": [],
   "source": [
    "# Average sequence is about length 30\n",
    "maxSeqLength = 50\n",
    "# Dimension of each opcode vector\n",
    "numDimensions = 100"
   ]
  },
  {
   "cell_type": "code",
   "execution_count": 4,
   "metadata": {
    "collapsed": false
   },
   "outputs": [],
   "source": [
    "def parse_data(data_files):\n",
    "\n",
    "    for data_file in data_files:\n",
    "        num_hot = num_total = 0\n",
    "        i = j = k = 0\n",
    "        print \"Parsing \" + data_file[:-4]\n",
    "        if(os.path.exists(output_folder + '/data_hot_' + data_file[:-4] + '.npy')):\n",
    "            continue\n",
    "        with open(data_folder + \"/\" + data_file) as f:\n",
    "            lines = f.readlines()\n",
    "            shuffle(lines)\n",
    "        ground_truth = None\n",
    "\n",
    "        # Get number of hot and cold paths in program\n",
    "        for line in lines:\n",
    "            if(len(line.split(' ')) - 1):\n",
    "                num_total += 1\n",
    "                ground_truth = (int(line.split(' ')[2]) > 0)\n",
    "                num_hot += ground_truth\n",
    "        ground_truth = None\n",
    "\n",
    "        # Allocate arrays for hot and cold paths\n",
    "        data_hot = np.zeros((num_hot, maxSeqLength, numDimensions))\n",
    "        data_cold = np.zeros((num_hot, maxSeqLength, numDimensions))\n",
    "\n",
    "        # Parse hot and cold path data\n",
    "        for line in lines:\n",
    "\n",
    "            # Get whether a path is hot or cold\n",
    "            if(len(line.split(' ')) - 1):\n",
    "                if(ground_truth == True):\n",
    "                    i += 1\n",
    "                elif(ground_truth == False):\n",
    "                    j += 1\n",
    "                ground_truth = (int(line.split(' ')[2]) > 0)\n",
    "                k = 0\n",
    "\n",
    "            # Record basic block vector in array\n",
    "            else:\n",
    "                if(not len(line.split(',')) - 1 or k >= maxSeqLength):\n",
    "                    continue\n",
    "                data = np.asarray([float(val.strip('\\n')) for val in line.split(',')])\n",
    "                if(ground_truth):\n",
    "                    data_hot[i][k] = data\n",
    "                elif(j < num_hot):\n",
    "                    data_cold[j][k] = data\n",
    "                k += 1\n",
    "                    \n",
    "        # Number of Hot and Cold Paths         \n",
    "        print \"Num Hot Paths: \" + str(num_hot)\n",
    "        print \"Num Cold Paths: \" + str(num_total - num_hot)\n",
    "\n",
    "        # Save Results\n",
    "        np.save(output_folder + '/data_hot_' + data_file[:-4] + '.npy', data_hot)\n",
    "        np.save(output_folder + '/data_cold_' + data_file[:-4] + '.npy', data_cold)"
   ]
  },
  {
   "cell_type": "code",
   "execution_count": 6,
   "metadata": {
    "collapsed": false
   },
   "outputs": [
    {
     "name": "stdout",
     "output_type": "stream",
     "text": [
      "Parsing gromacs\n",
      "Num Hot Paths: 1303\n",
      "Num Cold Paths: 75612\n",
      "Parsing hmmer\n",
      "Num Hot Paths: 433\n",
      "Num Cold Paths: 35646\n",
      "Parsing mcf\n",
      "Num Hot Paths: 603\n",
      "Num Cold Paths: 3891\n",
      "Parsing sphinx3\n",
      "Num Hot Paths: 1549\n",
      "Num Cold Paths: 74560\n",
      "Parsing soplex-fix\n",
      "Num Hot Paths: 271\n",
      "Num Cold Paths: 17728\n",
      "Parsing milc\n",
      "Num Hot Paths: 1055\n",
      "Num Cold Paths: 23343\n",
      "Parsing gobmk\n",
      "Num Hot Paths: 47407\n",
      "Num Cold Paths: 215409\n",
      "Parsing gemsfdtd\n",
      "Num Hot Paths: 2523\n",
      "Num Cold Paths: 60728\n",
      "Parsing leslie3d\n",
      "Num Hot Paths: 738\n",
      "Num Cold Paths: 22579\n",
      "Parsing gmm\n",
      "Num Hot Paths: 90\n",
      "Num Cold Paths: 3203\n",
      "Parsing h264\n",
      "Num Hot Paths: 3105\n",
      "Num Cold Paths: 190972\n",
      "Parsing povray-fix\n",
      "Num Hot Paths: 3260\n",
      "Num Cold Paths: 231072\n",
      "Parsing libquantum\n",
      "Num Hot Paths: 254\n",
      "Num Cold Paths: 6101\n",
      "Parsing gcc\n",
      "Num Hot Paths: 33450\n",
      "Num Cold Paths: 1104291\n",
      "Parsing stemmer\n",
      "Num Hot Paths: 927\n",
      "Num Cold Paths: 4167\n",
      "Parsing lbm\n",
      "Num Hot Paths: 73\n",
      "Num Cold Paths: 200\n",
      "Parsing astar\n",
      "Num Hot Paths: 7384\n",
      "Num Cold Paths: 14791\n",
      "Parsing namd-fix\n",
      "Num Hot Paths: 1749\n",
      "Num Cold Paths: 48965\n"
     ]
    }
   ],
   "source": [
    "parse_data(data_files)"
   ]
  },
  {
   "cell_type": "code",
   "execution_count": null,
   "metadata": {
    "collapsed": true
   },
   "outputs": [],
   "source": []
  }
 ],
 "metadata": {
  "kernelspec": {
   "display_name": "Python 2",
   "language": "python",
   "name": "python2"
  },
  "language_info": {
   "codemirror_mode": {
    "name": "ipython",
    "version": 2
   },
   "file_extension": ".py",
   "mimetype": "text/x-python",
   "name": "python",
   "nbconvert_exporter": "python",
   "pygments_lexer": "ipython2",
   "version": "2.7.12"
  }
 },
 "nbformat": 4,
 "nbformat_minor": 0
}
